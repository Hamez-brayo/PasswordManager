{
  "cells": [
    {
      "cell_type": "code",
      "execution_count": 1,
      "metadata": {
        "colab": {
          "base_uri": "https://localhost:8080/"
        },
        "id": "2C7QNyuTUbou",
        "outputId": "c0625204-c9d8-4c00-a1d5-406aaaafcd17"
      },
      "outputs": [
        {
          "name": "stdout",
          "output_type": "stream",
          "text": [
            "Collecting pycryptodome\n",
            "  Obtaining dependency information for pycryptodome from https://files.pythonhosted.org/packages/1f/90/d131c0eb643290230dfa4108b7c2d135122d88b714ad241d77beb4782a76/pycryptodome-3.20.0-cp35-abi3-win_amd64.whl.metadata\n",
            "  Downloading pycryptodome-3.20.0-cp35-abi3-win_amd64.whl.metadata (3.4 kB)\n",
            "Downloading pycryptodome-3.20.0-cp35-abi3-win_amd64.whl (1.8 MB)\n",
            "   ---------------------------------------- 0.0/1.8 MB ? eta -:--:--\n",
            "   ---------------------------------------- 0.0/1.8 MB ? eta -:--:--\n",
            "   ---------------------------------------- 0.0/1.8 MB ? eta -:--:--\n",
            "    --------------------------------------- 0.0/1.8 MB 281.8 kB/s eta 0:00:07\n",
            "   -- ------------------------------------- 0.1/1.8 MB 476.3 kB/s eta 0:00:04\n",
            "   --- ------------------------------------ 0.2/1.8 MB 654.6 kB/s eta 0:00:03\n",
            "   ----- ---------------------------------- 0.2/1.8 MB 850.1 kB/s eta 0:00:02\n",
            "   --------- ------------------------------ 0.4/1.8 MB 1.2 MB/s eta 0:00:02\n",
            "   ------------ --------------------------- 0.5/1.8 MB 1.5 MB/s eta 0:00:01\n",
            "   --------------- ------------------------ 0.7/1.8 MB 1.7 MB/s eta 0:00:01\n",
            "   ----------------------- ---------------- 1.0/1.8 MB 2.3 MB/s eta 0:00:01\n",
            "   ---------------------------- ----------- 1.2/1.8 MB 2.5 MB/s eta 0:00:01\n",
            "   ----------------------------------- ---- 1.5/1.8 MB 2.8 MB/s eta 0:00:01\n",
            "   ---------------------------------------- 1.8/1.8 MB 2.9 MB/s eta 0:00:00\n",
            "Installing collected packages: pycryptodome\n",
            "Successfully installed pycryptodome-3.20.0\n",
            "Note: you may need to restart the kernel to use updated packages.\n"
          ]
        },
        {
          "name": "stderr",
          "output_type": "stream",
          "text": [
            "\n",
            "[notice] A new release of pip is available: 23.2.1 -> 24.0\n",
            "[notice] To update, run: python.exe -m pip install --upgrade pip\n"
          ]
        }
      ],
      "source": [
        "%pip install pycryptodome"
      ]
    },
    {
      "cell_type": "code",
      "execution_count": 2,
      "metadata": {
        "id": "Pevt8i69T-eN"
      },
      "outputs": [],
      "source": [
        "\n",
        "from Crypto.Cipher import AES\n",
        "from Crypto.Protocol.KDF import scrypt\n",
        "from Crypto.Random import get_random_bytes\n",
        "import os\n",
        "import hashlib\n",
        "import base64"
      ]
    },
    {
      "cell_type": "code",
      "execution_count": 7,
      "metadata": {
        "id": "Kas9JWgUUD40"
      },
      "outputs": [],
      "source": [
        "class PasswordManager:\n",
        "    def __init__(self, master_password):\n",
        "        self.master_password = master_password\n",
        "        self.key = self.derive_key(master_password)\n",
        "        self.file_path = \"passwords.dat\"\n",
        "\n",
        "    def derive_key(self, password):\n",
        "        salt = b'secure_salt'  # Salt for key derivation\n",
        "        key = scrypt(password, salt, key_len=32, N=2**14, r=8, p=1)\n",
        "        return key\n",
        "\n",
        "    def encrypt(self, data):\n",
        "        cipher = AES.new(self.key, AES.MODE_GCM)\n",
        "        ciphertext, tag = cipher.encrypt_and_digest(data.encode('utf-8'))\n",
        "        return base64.b64encode(cipher.nonce + tag + ciphertext)\n",
        "\n",
        "    def decrypt(self, encrypted_data):\n",
        "        encrypted_data = base64.b64decode(encrypted_data)\n",
        "        nonce = encrypted_data[:16]\n",
        "        tag = encrypted_data[16:32]\n",
        "        ciphertext = encrypted_data[32:]\n",
        "        cipher = AES.new(self.key, AES.MODE_GCM, nonce=nonce)\n",
        "        decrypted_data = cipher.decrypt_and_verify(ciphertext, tag)\n",
        "        return decrypted_data.decode('utf-8')\n",
        "\n",
        "    def authenticate(self, master_password):\n",
        "        return self.master_password == master_password\n",
        "\n",
        "    def save_password(self, website, username, password):\n",
        "        data = f\"{website},{username},{password}\"\n",
        "        with open(self.file_path, \"a\") as f:\n",
        "            encrypted_data = self.encrypt(data)\n",
        "            f.write(encrypted_data.decode('utf-8') + '\\n')\n",
        "\n",
        "    def retrieve_passwords(self):\n",
        "        if not os.path.exists(self.file_path):\n",
        "            return \"No passwords saved yet.\"\n",
        "        passwords = []\n",
        "        with open(self.file_path, \"r\") as f:\n",
        "            for line in f:\n",
        "                decrypted_data = self.decrypt(line.strip())\n",
        "                website, username, password = decrypted_data.split(',')\n",
        "                passwords.append((website, username, password))\n",
        "        return passwords"
      ]
    },
    {
      "cell_type": "code",
      "execution_count": 9,
      "metadata": {
        "colab": {
          "base_uri": "https://localhost:8080/"
        },
        "id": "dyc3tNlaT2wW",
        "outputId": "b8aac1cf-e5cb-4a48-f2ac-1d9e36a76e8a"
      },
      "outputs": [
        {
          "name": "stdout",
          "output_type": "stream",
          "text": [
            "\n",
            "1. Save password\n",
            "2. Retrieve passwords\n",
            "3. Exit\n"
          ]
        },
        {
          "name": "stdout",
          "output_type": "stream",
          "text": [
            "\n",
            "Saved Passwords:\n",
            "1. Website: instagram.com, Username: hamezz.b__, Password: 007123@MathanjukiJB\n",
            "\n",
            "1. Save password\n",
            "2. Retrieve passwords\n",
            "3. Exit\n",
            "\n",
            "Saved Passwords:\n",
            "1. Website: instagram.com, Username: hamezz.b__, Password: 007123@MathanjukiJB\n",
            "\n",
            "1. Save password\n",
            "2. Retrieve passwords\n",
            "3. Exit\n",
            "Invalid choice. Please try again.\n",
            "\n",
            "1. Save password\n",
            "2. Retrieve passwords\n",
            "3. Exit\n",
            "Exiting.\n"
          ]
        }
      ],
      "source": [
        "def main():\n",
        "    master_password = input(\"Enter your master password: \")\n",
        "    password_manager = PasswordManager(master_password)\n",
        "\n",
        "    if not password_manager.authenticate(master_password):\n",
        "        print(\"Authentication failed. Exiting.\")\n",
        "        return\n",
        "\n",
        "    while True:\n",
        "        print(\"\\n1. Save password\")\n",
        "        print(\"2. Retrieve passwords\")\n",
        "        print(\"3. Exit\")\n",
        "        choice = input(\"Enter your choice: \")\n",
        "\n",
        "        if choice == \"1\":\n",
        "            website = input(\"Enter website: \")\n",
        "            username = input(\"Enter username: \")\n",
        "            password = input(\"Enter password: \")\n",
        "            password_manager.save_password(website, username, password)\n",
        "            print(\"Password saved successfully.\")\n",
        "        elif choice == \"2\":\n",
        "            passwords = password_manager.retrieve_passwords()\n",
        "            if isinstance(passwords, str):\n",
        "                print(passwords)\n",
        "            else:\n",
        "                print(\"\\nSaved Passwords:\")\n",
        "                for i, (website, username, password) in enumerate(passwords, 1):\n",
        "                    print(f\"{i}. Website: {website}, Username: {username}, Password: {password}\")\n",
        "        elif choice == \"3\":\n",
        "            print(\"Exiting.\")\n",
        "            break\n",
        "        else:\n",
        "            print(\"Invalid choice. Please try again.\")\n",
        "\n",
        "if __name__ == \"__main__\":\n",
        "    main()\n"
      ]
    }
  ],
  "metadata": {
    "colab": {
      "provenance": []
    },
    "kernelspec": {
      "display_name": "Python 3",
      "name": "python3"
    },
    "language_info": {
      "codemirror_mode": {
        "name": "ipython",
        "version": 3
      },
      "file_extension": ".py",
      "mimetype": "text/x-python",
      "name": "python",
      "nbconvert_exporter": "python",
      "pygments_lexer": "ipython3",
      "version": "3.11.5"
    }
  },
  "nbformat": 4,
  "nbformat_minor": 0
}
